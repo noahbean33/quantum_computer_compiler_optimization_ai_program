{
  "cells": [
    {
      "cell_type": "markdown",
      "metadata": {
        "id": "kOPZwKbPaeHc"
      },
      "source": [
        "The goal of this project is building an artificial intelligence (AI) program to optimize a quantum circuit compiler. Here are the steps, knowledge requirements, and data needs for such a project:\n",
        "\n",
        "Steps to Undertake the Project\n",
        "Understand Quantum Computing Basics:\n",
        "\n",
        "- Quantum Mechanics Fundamentals: Learn about qubits, superposition, entanglement, and quantum gates.\n",
        " - Quantum Algorithms: Study algorithms like Grover's and Shor's, which illustrate the potential of quantum computing.\n",
        " - Quantum Circuits: Understand the construction and execution of quantum circuits, including common gates like Hadamard, CNOT, and Pauli gates.\n",
        "- Study Quantum Circuit Compilers:\n",
        "\n",
        " - Compilation Process: Learn how quantum circuits are transformed from high-level algorithms to low-level machine instructions.\n",
        " - Optimization Techniques: Investigate existing techniques for optimizing quantum circuits, such as gate minimization, error correction, and resource management.\n",
        "- Learn Relevant AI/ML Techniques:\n",
        "\n",
        " - Machine Learning Basics: Get familiar with supervised, unsupervised, and reinforcement learning.\n",
        " - Optimization Algorithms: Study algorithms like genetic algorithms, simulated annealing, or neural networks, which can be used to optimize quantum circuits.\n",
        " - Reinforcement Learning: This is particularly useful for optimization problems and may be applicable to your project.\n",
        "- Acquire and Process Data:\n",
        "\n",
        " - Quantum Circuit Datasets: Find or generate datasets of quantum circuits that can be used for training your AI model. These can include different types of circuits, their gates, and performance metrics.\n",
        " - Performance Metrics: Collect data on performance metrics such as execution time, fidelity, and error rates for various circuits and optimization techniques.\n",
        "- Develop the AI Model:\n",
        "\n",
        " - Model Selection: Choose an appropriate model architecture for your optimization task. This could be a neural network, reinforcement learning agent, or another suitable model.\n",
        " - Training the Model: Use your dataset to train the AI model, ensuring it learns to optimize quantum circuits effectively.\n",
        " - Evaluation: Test the model on unseen circuits to evaluate its performance and make adjustments as needed.\n",
        "- Implement the Quantum Circuit Compiler:\n",
        "\n",
        " - Integration: Integrate your AI model with a quantum circuit compiler. This involves feeding the circuit through your model and applying the suggested optimizations.\n",
        " - Testing: Test the integrated system with various circuits to ensure it works correctly and provides meaningful optimizations.\n",
        "- Documentation and Presentation:\n",
        "\n",
        " - Document Your Work: Keep detailed records of your research, development process, and results.\n",
        " - Prepare Your Presentation: Develop a clear and concise presentation to explain your project, the methods used, and the results obtained.\n",
        "- Knowledge Requirements\n",
        " - Quantum Computing:\n",
        "\n",
        " - Quantum mechanics principles\n",
        " - Quantum gates and circuits\n",
        " - Quantum algorithms\n",
        " - Artificial Intelligence and Machine Learning:\n",
        "\n",
        " - Basics of machine learning\n",
        " - Optimization algorithms\n",
        " - Reinforcement learning\n",
        "- Programming and Tools:\n",
        "\n",
        " - Programming languages such as Python\n",
        " - Quantum computing frameworks (Qiskit, Cirq, Q#)\n",
        " - AI/ML libraries (TensorFlow, PyTorch)\n",
        "- Data Handling:\n",
        "\n",
        " - Data collection and preprocessing\n",
        " - Handling quantum circuit datasets\n",
        "- Data Requirements\n",
        " - Quantum Circuit Data:\n",
        "\n",
        " - Examples of quantum circuits with various configurations\n",
        "Performance metrics (execution time, error rates, etc.)\n",
        "Optimization Outcomes:\n",
        "\n",
        " - Records of optimized vs. non-optimized circuits\n",
        "Metrics to compare before and after optimization\n",
        "\n",
        "**Introduction:**\n",
        "\n",
        "- Define the problem and objectives\n",
        "- Background on quantum circuits and compilers\n",
        "- Literature Review:\n",
        "\n",
        " - Existing quantum circuit optimization techniques\n",
        " - Relevant AI/ML methods\n",
        "- Methodology:\n",
        "\n",
        " - Detailed description of the AI model\n",
        " - Data collection and preprocessing steps\n",
        "- Implementation:\n",
        "\n",
        " - Model training process\n",
        " - Integration with the quantum circuit compiler\n",
        "- Results and Discussion:\n",
        "\n",
        "- Performance evaluation of the AI-optimized compiler\n",
        "Comparison with existing methods\n",
        "- Conclusion:\n",
        "\n",
        " - Summary of findings\n",
        " - Potential future work and improvements\n"
      ]
    },
    {
      "cell_type": "markdown",
      "source": [
        "**Project success benchmark: **\n",
        "Compiler has a reduction of x circuit depth, y compile time, z swap gate usage, n accuracy of circuit translation + failure rate, m execution time"
      ],
      "metadata": {
        "id": "F24R76vNKOg0"
      }
    },
    {
      "cell_type": "markdown",
      "source": [
        "optimization includes gate reduction and qubit scheduling based on hardware (investigate hardware avaliable for testing (IBM Eagle 127 Qubits))"
      ],
      "metadata": {
        "id": "uLjpWk-PLJLI"
      }
    },
    {
      "cell_type": "markdown",
      "source": [
        "optimization strategy: teach AI basic zx calculus, break up the circuit into 1 and 2 qubit operations, apply optimization algorithm (find out which one(s) to use), determine which physical qubit scheduling patter is most optomized to reduce swap gate usage, train model on high volume of circuits, test model on previously optimized circuits through IBM Transpile service, scale up project from 10 qubits, to 50 qubits, to 100 qubits. Verfify that circuit optimization is functionally identical and that optimization does not exceed benchmark targets."
      ],
      "metadata": {
        "id": "cDAGbgp8LTWm"
      }
    },
    {
      "cell_type": "markdown",
      "metadata": {
        "id": "vL4wX0MMbfrb"
      },
      "source": [
        "1. learn:\n",
        "quantum computing, quantum mechanics, quantum algorithms, quantum circuits, quantum hardware, quantum information science"
      ]
    },
    {
      "cell_type": "markdown",
      "metadata": {
        "id": "C4_zy0JwbwxE"
      },
      "source": [
        "2. study quantum circuit compilers, optimization techniques\n"
      ]
    },
    {
      "cell_type": "markdown",
      "metadata": {
        "id": "jEQHRCa1b3-M"
      },
      "source": [
        "3. learn machine learning, reinforment learning, optimization"
      ]
    },
    {
      "cell_type": "markdown",
      "metadata": {
        "id": "PsYGz5IPb9Dd"
      },
      "source": [
        "4. aquire and clean machine learning data in the form of quantum algorithms"
      ]
    },
    {
      "cell_type": "markdown",
      "source": [
        "circuit zoo library, random circuit, and MNISQ circuit database, common circuits"
      ],
      "metadata": {
        "id": "g4tKL2rNJ0Ww"
      }
    },
    {
      "cell_type": "markdown",
      "source": [
        "circuits can be translated between Q#, Cirq, and Qiskit through QASM 2.0/3.0"
      ],
      "metadata": {
        "id": "W-tQosqsKChr"
      }
    },
    {
      "cell_type": "markdown",
      "metadata": {
        "id": "zpTPDupg2GF4"
      },
      "source": [
        "lab 3 code copy\n"
      ]
    },
    {
      "cell_type": "code",
      "execution_count": null,
      "metadata": {
        "colab": {
          "base_uri": "https://localhost:8080/"
        },
        "id": "SNv8uiyI2FJG",
        "outputId": "cc365f8b-8588-45e2-e334-a05b8b0d650c"
      },
      "outputs": [
        {
          "output_type": "stream",
          "name": "stdout",
          "text": [
            "Requirement already satisfied: qiskit[visualization]==1.0.2 in /usr/local/lib/python3.10/dist-packages (1.0.2)\n",
            "Requirement already satisfied: rustworkx>=0.14.0 in /usr/local/lib/python3.10/dist-packages (from qiskit[visualization]==1.0.2) (0.14.2)\n",
            "Requirement already satisfied: numpy<2,>=1.17 in /usr/local/lib/python3.10/dist-packages (from qiskit[visualization]==1.0.2) (1.25.2)\n",
            "Requirement already satisfied: scipy>=1.5 in /usr/local/lib/python3.10/dist-packages (from qiskit[visualization]==1.0.2) (1.11.4)\n",
            "Requirement already satisfied: sympy>=1.3 in /usr/local/lib/python3.10/dist-packages (from qiskit[visualization]==1.0.2) (1.12.1)\n",
            "Requirement already satisfied: dill>=0.3 in /usr/local/lib/python3.10/dist-packages (from qiskit[visualization]==1.0.2) (0.3.8)\n",
            "Requirement already satisfied: python-dateutil>=2.8.0 in /usr/local/lib/python3.10/dist-packages (from qiskit[visualization]==1.0.2) (2.8.2)\n",
            "Requirement already satisfied: stevedore>=3.0.0 in /usr/local/lib/python3.10/dist-packages (from qiskit[visualization]==1.0.2) (5.2.0)\n",
            "Requirement already satisfied: typing-extensions in /usr/local/lib/python3.10/dist-packages (from qiskit[visualization]==1.0.2) (4.12.2)\n",
            "Requirement already satisfied: symengine>=0.11 in /usr/local/lib/python3.10/dist-packages (from qiskit[visualization]==1.0.2) (0.11.0)\n",
            "Requirement already satisfied: matplotlib>=3.3 in /usr/local/lib/python3.10/dist-packages (from qiskit[visualization]==1.0.2) (3.7.1)\n",
            "Requirement already satisfied: pydot in /usr/local/lib/python3.10/dist-packages (from qiskit[visualization]==1.0.2) (1.4.2)\n",
            "Requirement already satisfied: Pillow>=4.2.1 in /usr/local/lib/python3.10/dist-packages (from qiskit[visualization]==1.0.2) (9.4.0)\n",
            "Requirement already satisfied: pylatexenc>=1.4 in /usr/local/lib/python3.10/dist-packages (from qiskit[visualization]==1.0.2) (2.10)\n",
            "Requirement already satisfied: seaborn>=0.9.0 in /usr/local/lib/python3.10/dist-packages (from qiskit[visualization]==1.0.2) (0.13.1)\n",
            "Requirement already satisfied: contourpy>=1.0.1 in /usr/local/lib/python3.10/dist-packages (from matplotlib>=3.3->qiskit[visualization]==1.0.2) (1.2.1)\n",
            "Requirement already satisfied: cycler>=0.10 in /usr/local/lib/python3.10/dist-packages (from matplotlib>=3.3->qiskit[visualization]==1.0.2) (0.12.1)\n",
            "Requirement already satisfied: fonttools>=4.22.0 in /usr/local/lib/python3.10/dist-packages (from matplotlib>=3.3->qiskit[visualization]==1.0.2) (4.53.0)\n",
            "Requirement already satisfied: kiwisolver>=1.0.1 in /usr/local/lib/python3.10/dist-packages (from matplotlib>=3.3->qiskit[visualization]==1.0.2) (1.4.5)\n",
            "Requirement already satisfied: packaging>=20.0 in /usr/local/lib/python3.10/dist-packages (from matplotlib>=3.3->qiskit[visualization]==1.0.2) (24.1)\n",
            "Requirement already satisfied: pyparsing>=2.3.1 in /usr/local/lib/python3.10/dist-packages (from matplotlib>=3.3->qiskit[visualization]==1.0.2) (3.1.2)\n",
            "Requirement already satisfied: six>=1.5 in /usr/local/lib/python3.10/dist-packages (from python-dateutil>=2.8.0->qiskit[visualization]==1.0.2) (1.16.0)\n",
            "Requirement already satisfied: pandas>=1.2 in /usr/local/lib/python3.10/dist-packages (from seaborn>=0.9.0->qiskit[visualization]==1.0.2) (2.0.3)\n",
            "Requirement already satisfied: pbr!=2.1.0,>=2.0.0 in /usr/local/lib/python3.10/dist-packages (from stevedore>=3.0.0->qiskit[visualization]==1.0.2) (6.0.0)\n",
            "Requirement already satisfied: mpmath<1.4.0,>=1.1.0 in /usr/local/lib/python3.10/dist-packages (from sympy>=1.3->qiskit[visualization]==1.0.2) (1.3.0)\n",
            "Requirement already satisfied: pytz>=2020.1 in /usr/local/lib/python3.10/dist-packages (from pandas>=1.2->seaborn>=0.9.0->qiskit[visualization]==1.0.2) (2023.4)\n",
            "Requirement already satisfied: tzdata>=2022.1 in /usr/local/lib/python3.10/dist-packages (from pandas>=1.2->seaborn>=0.9.0->qiskit[visualization]==1.0.2) (2024.1)\n",
            "Collecting qiskit-ibm-runtime\n",
            "  Downloading qiskit_ibm_runtime-0.24.0-py3-none-any.whl (2.9 MB)\n",
            "\u001b[2K     \u001b[90m━━━━━━━━━━━━━━━━━━━━━━━━━━━━━━━━━━━━━━━━\u001b[0m \u001b[32m2.9/2.9 MB\u001b[0m \u001b[31m17.0 MB/s\u001b[0m eta \u001b[36m0:00:00\u001b[0m\n",
            "\u001b[?25hRequirement already satisfied: requests>=2.19 in /usr/local/lib/python3.10/dist-packages (from qiskit-ibm-runtime) (2.31.0)\n",
            "Collecting requests-ntlm>=1.1.0 (from qiskit-ibm-runtime)\n",
            "  Downloading requests_ntlm-1.3.0-py3-none-any.whl (6.6 kB)\n",
            "Requirement already satisfied: numpy>=1.13 in /usr/local/lib/python3.10/dist-packages (from qiskit-ibm-runtime) (1.25.2)\n",
            "Requirement already satisfied: urllib3>=1.21.1 in /usr/local/lib/python3.10/dist-packages (from qiskit-ibm-runtime) (2.0.7)\n",
            "Requirement already satisfied: python-dateutil>=2.8.0 in /usr/local/lib/python3.10/dist-packages (from qiskit-ibm-runtime) (2.8.2)\n",
            "Requirement already satisfied: websocket-client>=1.5.1 in /usr/local/lib/python3.10/dist-packages (from qiskit-ibm-runtime) (1.8.0)\n",
            "Collecting ibm-platform-services>=0.22.6 (from qiskit-ibm-runtime)\n",
            "  Downloading ibm-platform-services-0.53.7.tar.gz (323 kB)\n",
            "\u001b[2K     \u001b[90m━━━━━━━━━━━━━━━━━━━━━━━━━━━━━━━━━━━━━━━━\u001b[0m \u001b[32m323.9/323.9 kB\u001b[0m \u001b[31m31.1 MB/s\u001b[0m eta \u001b[36m0:00:00\u001b[0m\n",
            "\u001b[?25h  Installing build dependencies ... \u001b[?25l\u001b[?25hdone\n",
            "  Getting requirements to build wheel ... \u001b[?25l\u001b[?25hdone\n",
            "  Preparing metadata (pyproject.toml) ... \u001b[?25l\u001b[?25hdone\n",
            "Requirement already satisfied: pydantic in /usr/local/lib/python3.10/dist-packages (from qiskit-ibm-runtime) (2.7.3)\n",
            "Collecting qiskit>=1.1.0 (from qiskit-ibm-runtime)\n",
            "  Downloading qiskit-1.1.0-cp38-abi3-manylinux_2_17_x86_64.manylinux2014_x86_64.whl (4.3 MB)\n",
            "\u001b[2K     \u001b[90m━━━━━━━━━━━━━━━━━━━━━━━━━━━━━━━━━━━━━━━━\u001b[0m \u001b[32m4.3/4.3 MB\u001b[0m \u001b[31m64.0 MB/s\u001b[0m eta \u001b[36m0:00:00\u001b[0m\n",
            "\u001b[?25hCollecting ibm-cloud-sdk-core<4.0.0,>=3.19.2 (from ibm-platform-services>=0.22.6->qiskit-ibm-runtime)\n",
            "  Downloading ibm-cloud-sdk-core-3.20.1.tar.gz (62 kB)\n",
            "\u001b[2K     \u001b[90m━━━━━━━━━━━━━━━━━━━━━━━━━━━━━━━━━━━━━━━━\u001b[0m \u001b[32m62.1/62.1 kB\u001b[0m \u001b[31m8.5 MB/s\u001b[0m eta \u001b[36m0:00:00\u001b[0m\n",
            "\u001b[?25h  Installing build dependencies ... \u001b[?25l\u001b[?25hdone\n",
            "  Getting requirements to build wheel ... \u001b[?25l\u001b[?25hdone\n",
            "  Preparing metadata (pyproject.toml) ... \u001b[?25l\u001b[?25hdone\n",
            "Requirement already satisfied: six>=1.5 in /usr/local/lib/python3.10/dist-packages (from python-dateutil>=2.8.0->qiskit-ibm-runtime) (1.16.0)\n",
            "Requirement already satisfied: rustworkx>=0.14.0 in /usr/local/lib/python3.10/dist-packages (from qiskit>=1.1.0->qiskit-ibm-runtime) (0.14.2)\n",
            "Requirement already satisfied: scipy>=1.5 in /usr/local/lib/python3.10/dist-packages (from qiskit>=1.1.0->qiskit-ibm-runtime) (1.11.4)\n",
            "Requirement already satisfied: sympy>=1.3 in /usr/local/lib/python3.10/dist-packages (from qiskit>=1.1.0->qiskit-ibm-runtime) (1.12.1)\n",
            "Requirement already satisfied: dill>=0.3 in /usr/local/lib/python3.10/dist-packages (from qiskit>=1.1.0->qiskit-ibm-runtime) (0.3.8)\n",
            "Requirement already satisfied: stevedore>=3.0.0 in /usr/local/lib/python3.10/dist-packages (from qiskit>=1.1.0->qiskit-ibm-runtime) (5.2.0)\n",
            "Requirement already satisfied: typing-extensions in /usr/local/lib/python3.10/dist-packages (from qiskit>=1.1.0->qiskit-ibm-runtime) (4.12.2)\n",
            "Requirement already satisfied: symengine>=0.11 in /usr/local/lib/python3.10/dist-packages (from qiskit>=1.1.0->qiskit-ibm-runtime) (0.11.0)\n",
            "Requirement already satisfied: charset-normalizer<4,>=2 in /usr/local/lib/python3.10/dist-packages (from requests>=2.19->qiskit-ibm-runtime) (3.3.2)\n",
            "Requirement already satisfied: idna<4,>=2.5 in /usr/local/lib/python3.10/dist-packages (from requests>=2.19->qiskit-ibm-runtime) (3.7)\n",
            "Requirement already satisfied: certifi>=2017.4.17 in /usr/local/lib/python3.10/dist-packages (from requests>=2.19->qiskit-ibm-runtime) (2024.6.2)\n",
            "Requirement already satisfied: cryptography>=1.3 in /usr/local/lib/python3.10/dist-packages (from requests-ntlm>=1.1.0->qiskit-ibm-runtime) (42.0.8)\n",
            "Collecting pyspnego>=0.4.0 (from requests-ntlm>=1.1.0->qiskit-ibm-runtime)\n",
            "  Downloading pyspnego-0.11.0-py3-none-any.whl (130 kB)\n",
            "\u001b[2K     \u001b[90m━━━━━━━━━━━━━━━━━━━━━━━━━━━━━━━━━━━━━━━━\u001b[0m \u001b[32m130.4/130.4 kB\u001b[0m \u001b[31m13.5 MB/s\u001b[0m eta \u001b[36m0:00:00\u001b[0m\n",
            "\u001b[?25hRequirement already satisfied: annotated-types>=0.4.0 in /usr/local/lib/python3.10/dist-packages (from pydantic->qiskit-ibm-runtime) (0.7.0)\n",
            "Requirement already satisfied: pydantic-core==2.18.4 in /usr/local/lib/python3.10/dist-packages (from pydantic->qiskit-ibm-runtime) (2.18.4)\n",
            "Requirement already satisfied: cffi>=1.12 in /usr/local/lib/python3.10/dist-packages (from cryptography>=1.3->requests-ntlm>=1.1.0->qiskit-ibm-runtime) (1.16.0)\n",
            "Collecting urllib3>=1.21.1 (from qiskit-ibm-runtime)\n",
            "  Downloading urllib3-2.2.2-py3-none-any.whl (121 kB)\n",
            "\u001b[2K     \u001b[90m━━━━━━━━━━━━━━━━━━━━━━━━━━━━━━━━━━━━━━━━\u001b[0m \u001b[32m121.4/121.4 kB\u001b[0m \u001b[31m12.4 MB/s\u001b[0m eta \u001b[36m0:00:00\u001b[0m\n",
            "\u001b[?25hCollecting PyJWT<3.0.0,>=2.8.0 (from ibm-cloud-sdk-core<4.0.0,>=3.19.2->ibm-platform-services>=0.22.6->qiskit-ibm-runtime)\n",
            "  Downloading PyJWT-2.8.0-py3-none-any.whl (22 kB)\n",
            "Requirement already satisfied: pbr!=2.1.0,>=2.0.0 in /usr/local/lib/python3.10/dist-packages (from stevedore>=3.0.0->qiskit>=1.1.0->qiskit-ibm-runtime) (6.0.0)\n",
            "Requirement already satisfied: mpmath<1.4.0,>=1.1.0 in /usr/local/lib/python3.10/dist-packages (from sympy>=1.3->qiskit>=1.1.0->qiskit-ibm-runtime) (1.3.0)\n",
            "Requirement already satisfied: pycparser in /usr/local/lib/python3.10/dist-packages (from cffi>=1.12->cryptography>=1.3->requests-ntlm>=1.1.0->qiskit-ibm-runtime) (2.22)\n",
            "Building wheels for collected packages: ibm-platform-services, ibm-cloud-sdk-core\n",
            "  Building wheel for ibm-platform-services (pyproject.toml) ... \u001b[?25l\u001b[?25hdone\n",
            "  Created wheel for ibm-platform-services: filename=ibm_platform_services-0.53.7-py3-none-any.whl size=340285 sha256=1029b808dc62d374a56b1d45151ef8d52740a27d25c1a5788fc97bccb3951728\n",
            "  Stored in directory: /root/.cache/pip/wheels/8e/54/ad/63e8fdae0e85463bc04a21acf5364cff6def892b95dc40f3ed\n",
            "  Building wheel for ibm-cloud-sdk-core (pyproject.toml) ... \u001b[?25l\u001b[?25hdone\n",
            "  Created wheel for ibm-cloud-sdk-core: filename=ibm_cloud_sdk_core-3.20.1-py3-none-any.whl size=101533 sha256=4fa5e8e81a15f2aa7fe23424bee41859104464c060f25c07b533a911e37ee832\n",
            "  Stored in directory: /root/.cache/pip/wheels/b1/80/5b/12af32c69e0bde3322cb9c1809952e8ed9f2a2a39509ee5374\n",
            "Successfully built ibm-platform-services ibm-cloud-sdk-core\n",
            "Installing collected packages: urllib3, PyJWT, qiskit, pyspnego, ibm-cloud-sdk-core, requests-ntlm, ibm-platform-services, qiskit-ibm-runtime\n",
            "  Attempting uninstall: urllib3\n",
            "    Found existing installation: urllib3 2.0.7\n",
            "    Uninstalling urllib3-2.0.7:\n",
            "      Successfully uninstalled urllib3-2.0.7\n",
            "  Attempting uninstall: PyJWT\n",
            "    Found existing installation: PyJWT 2.3.0\n",
            "    Uninstalling PyJWT-2.3.0:\n",
            "      Successfully uninstalled PyJWT-2.3.0\n",
            "  Attempting uninstall: qiskit\n",
            "    Found existing installation: qiskit 1.0.2\n",
            "    Uninstalling qiskit-1.0.2:\n",
            "      Successfully uninstalled qiskit-1.0.2\n",
            "Successfully installed PyJWT-2.8.0 ibm-cloud-sdk-core-3.20.1 ibm-platform-services-0.53.7 pyspnego-0.11.0 qiskit-1.1.0 qiskit-ibm-runtime-0.24.0 requests-ntlm-1.3.0 urllib3-2.2.2\n",
            "Requirement already satisfied: qiskit-aer in /usr/local/lib/python3.10/dist-packages (0.14.2)\n",
            "Requirement already satisfied: qiskit>=0.45.2 in /usr/local/lib/python3.10/dist-packages (from qiskit-aer) (1.1.0)\n",
            "Requirement already satisfied: numpy>=1.16.3 in /usr/local/lib/python3.10/dist-packages (from qiskit-aer) (1.25.2)\n",
            "Requirement already satisfied: scipy>=1.0 in /usr/local/lib/python3.10/dist-packages (from qiskit-aer) (1.11.4)\n",
            "Requirement already satisfied: psutil>=5 in /usr/local/lib/python3.10/dist-packages (from qiskit-aer) (5.9.5)\n",
            "Requirement already satisfied: rustworkx>=0.14.0 in /usr/local/lib/python3.10/dist-packages (from qiskit>=0.45.2->qiskit-aer) (0.14.2)\n",
            "Requirement already satisfied: sympy>=1.3 in /usr/local/lib/python3.10/dist-packages (from qiskit>=0.45.2->qiskit-aer) (1.12.1)\n",
            "Requirement already satisfied: dill>=0.3 in /usr/local/lib/python3.10/dist-packages (from qiskit>=0.45.2->qiskit-aer) (0.3.8)\n",
            "Requirement already satisfied: python-dateutil>=2.8.0 in /usr/local/lib/python3.10/dist-packages (from qiskit>=0.45.2->qiskit-aer) (2.8.2)\n",
            "Requirement already satisfied: stevedore>=3.0.0 in /usr/local/lib/python3.10/dist-packages (from qiskit>=0.45.2->qiskit-aer) (5.2.0)\n",
            "Requirement already satisfied: typing-extensions in /usr/local/lib/python3.10/dist-packages (from qiskit>=0.45.2->qiskit-aer) (4.12.2)\n",
            "Requirement already satisfied: symengine>=0.11 in /usr/local/lib/python3.10/dist-packages (from qiskit>=0.45.2->qiskit-aer) (0.11.0)\n",
            "Requirement already satisfied: six>=1.5 in /usr/local/lib/python3.10/dist-packages (from python-dateutil>=2.8.0->qiskit>=0.45.2->qiskit-aer) (1.16.0)\n",
            "Requirement already satisfied: pbr!=2.1.0,>=2.0.0 in /usr/local/lib/python3.10/dist-packages (from stevedore>=3.0.0->qiskit>=0.45.2->qiskit-aer) (6.0.0)\n",
            "Requirement already satisfied: mpmath<1.4.0,>=1.1.0 in /usr/local/lib/python3.10/dist-packages (from sympy>=1.3->qiskit>=0.45.2->qiskit-aer) (1.3.0)\n",
            "Requirement already satisfied: graphviz in /usr/local/lib/python3.10/dist-packages (0.20.3)\n",
            "Collecting qiskit-transpiler-service\n",
            "  Downloading qiskit_transpiler_service-0.4.3-py3-none-any.whl (25 kB)\n",
            "Requirement already satisfied: qiskit~=1.0 in /usr/local/lib/python3.10/dist-packages (from qiskit-transpiler-service) (1.1.0)\n",
            "Collecting backoff~=2.0 (from qiskit-transpiler-service)\n",
            "  Downloading backoff-2.2.1-py3-none-any.whl (15 kB)\n",
            "Collecting qiskit-qasm3-import~=0.4 (from qiskit-transpiler-service)\n",
            "  Downloading qiskit_qasm3_import-0.5.0-py3-none-any.whl (27 kB)\n",
            "Requirement already satisfied: requests~=2.0 in /usr/local/lib/python3.10/dist-packages (from qiskit-transpiler-service) (2.31.0)\n",
            "Requirement already satisfied: rustworkx>=0.14.0 in /usr/local/lib/python3.10/dist-packages (from qiskit~=1.0->qiskit-transpiler-service) (0.14.2)\n",
            "Requirement already satisfied: numpy<3,>=1.17 in /usr/local/lib/python3.10/dist-packages (from qiskit~=1.0->qiskit-transpiler-service) (1.25.2)\n",
            "Requirement already satisfied: scipy>=1.5 in /usr/local/lib/python3.10/dist-packages (from qiskit~=1.0->qiskit-transpiler-service) (1.11.4)\n",
            "Requirement already satisfied: sympy>=1.3 in /usr/local/lib/python3.10/dist-packages (from qiskit~=1.0->qiskit-transpiler-service) (1.12.1)\n",
            "Requirement already satisfied: dill>=0.3 in /usr/local/lib/python3.10/dist-packages (from qiskit~=1.0->qiskit-transpiler-service) (0.3.8)\n",
            "Requirement already satisfied: python-dateutil>=2.8.0 in /usr/local/lib/python3.10/dist-packages (from qiskit~=1.0->qiskit-transpiler-service) (2.8.2)\n",
            "Requirement already satisfied: stevedore>=3.0.0 in /usr/local/lib/python3.10/dist-packages (from qiskit~=1.0->qiskit-transpiler-service) (5.2.0)\n",
            "Requirement already satisfied: typing-extensions in /usr/local/lib/python3.10/dist-packages (from qiskit~=1.0->qiskit-transpiler-service) (4.12.2)\n",
            "Requirement already satisfied: symengine>=0.11 in /usr/local/lib/python3.10/dist-packages (from qiskit~=1.0->qiskit-transpiler-service) (0.11.0)\n",
            "Collecting openqasm3[parser]<0.6,>=0.4 (from qiskit-qasm3-import~=0.4->qiskit-transpiler-service)\n",
            "  Downloading openqasm3-0.5.0-py3-none-any.whl (524 kB)\n",
            "\u001b[2K     \u001b[90m━━━━━━━━━━━━━━━━━━━━━━━━━━━━━━━━━━━━━━━━\u001b[0m \u001b[32m524.0/524.0 kB\u001b[0m \u001b[31m11.0 MB/s\u001b[0m eta \u001b[36m0:00:00\u001b[0m\n",
            "\u001b[?25hRequirement already satisfied: charset-normalizer<4,>=2 in /usr/local/lib/python3.10/dist-packages (from requests~=2.0->qiskit-transpiler-service) (3.3.2)\n",
            "Requirement already satisfied: idna<4,>=2.5 in /usr/local/lib/python3.10/dist-packages (from requests~=2.0->qiskit-transpiler-service) (3.7)\n",
            "Requirement already satisfied: urllib3<3,>=1.21.1 in /usr/local/lib/python3.10/dist-packages (from requests~=2.0->qiskit-transpiler-service) (2.2.2)\n",
            "Requirement already satisfied: certifi>=2017.4.17 in /usr/local/lib/python3.10/dist-packages (from requests~=2.0->qiskit-transpiler-service) (2024.6.2)\n",
            "Collecting antlr4-python3-runtime<4.14,>=4.7 (from openqasm3[parser]<0.6,>=0.4->qiskit-qasm3-import~=0.4->qiskit-transpiler-service)\n",
            "  Downloading antlr4_python3_runtime-4.13.1-py3-none-any.whl (144 kB)\n",
            "\u001b[2K     \u001b[90m━━━━━━━━━━━━━━━━━━━━━━━━━━━━━━━━━━━━━━━━\u001b[0m \u001b[32m144.5/144.5 kB\u001b[0m \u001b[31m2.7 MB/s\u001b[0m eta \u001b[36m0:00:00\u001b[0m\n",
            "\u001b[?25hRequirement already satisfied: six>=1.5 in /usr/local/lib/python3.10/dist-packages (from python-dateutil>=2.8.0->qiskit~=1.0->qiskit-transpiler-service) (1.16.0)\n",
            "Requirement already satisfied: pbr!=2.1.0,>=2.0.0 in /usr/local/lib/python3.10/dist-packages (from stevedore>=3.0.0->qiskit~=1.0->qiskit-transpiler-service) (6.0.0)\n",
            "Requirement already satisfied: mpmath<1.4.0,>=1.1.0 in /usr/local/lib/python3.10/dist-packages (from sympy>=1.3->qiskit~=1.0->qiskit-transpiler-service) (1.3.0)\n",
            "Installing collected packages: openqasm3, antlr4-python3-runtime, backoff, qiskit-qasm3-import, qiskit-transpiler-service\n",
            "Successfully installed antlr4-python3-runtime-4.13.1 backoff-2.2.1 openqasm3-0.5.0 qiskit-qasm3-import-0.5.0 qiskit-transpiler-service-0.4.3\n"
          ]
        }
      ],
      "source": [
        "### Install Qiskit and relevant packages, if needed\n",
        "### IMPORTANT: Make sure you are using python 3.10 or 3.11 for compatibility of the required packages\n",
        "%pip install qiskit[visualization]==1.0.2\n",
        "%pip install qiskit-ibm-runtime\n",
        "%pip install qiskit-aer\n",
        "%pip install graphviz\n",
        "%pip install qiskit-transpiler-service\n"
      ]
    },
    {
      "cell_type": "code",
      "execution_count": null,
      "metadata": {
        "colab": {
          "base_uri": "https://localhost:8080/"
        },
        "id": "ShL0TZXM2J6O",
        "outputId": "b38ed5ea-d59b-4296-9268-a672ac5e18d4"
      },
      "outputs": [
        {
          "output_type": "stream",
          "name": "stdout",
          "text": [
            "env: QXToken=d87cf3581eb6ebe7359f68f4c291a5de3492681bc5771ea0883755cbe075940a7ccabd89b28d03ac0bb14484cde73bac587cb0fdcabc4360ffd051fffc665c6c\n"
          ]
        }
      ],
      "source": [
        "### Save API Token, if needed\n",
        "\n",
        "%set_env QXToken=d87cf3581eb6ebe7359f68f4c291a5de3492681bc5771ea0883755cbe075940a7ccabd89b28d03ac0bb14484cde73bac587cb0fdcabc4360ffd051fffc665c6c\n",
        "\n",
        "# Make sure there is no space between the equal sign\n",
        "# and the beginning of your token"
      ]
    },
    {
      "cell_type": "code",
      "execution_count": null,
      "metadata": {
        "id": "TeL8W4CW2Ont"
      },
      "outputs": [],
      "source": [
        "# Imports\n",
        "\n",
        "import numpy as np\n",
        "import matplotlib.pyplot as plt\n",
        "from qiskit.circuit.library import EfficientSU2\n",
        "from qiskit.transpiler.preset_passmanagers import generate_preset_pass_manager\n",
        "from qiskit_ibm_runtime import QiskitRuntimeService\n",
        "from qiskit_transpiler_service.transpiler_service import TranspilerService"
      ]
    },
    {
      "cell_type": "code",
      "execution_count": null,
      "metadata": {
        "id": "SZZRTUgW2RuN"
      },
      "outputs": [],
      "source": [
        "#NUM_QUBITS = 10"
      ]
    },
    {
      "cell_type": "code",
      "source": [
        "from qiskit.circuit.random import random_circuit\n",
        "'''\n",
        "Parameters\n",
        "\n",
        "num_qubits (int) – number of quantum wires\n",
        "depth (int) – layers of operations (i.e. critical path length)\n",
        "max_operands (int) – maximum qubit operands of each gate (between 1 and 4)\n",
        "measure (bool) – if True, measure all qubits at the end\n",
        "conditional (bool) – if True, insert middle measurements and conditionals\n",
        "reset (bool) – if True, insert middle resets\n",
        "seed (int) – sets random seed (optional)\n",
        "'''\n",
        "#https://docs.quantum.ibm.com/api/qiskit/0.40/qiskit.circuit.random.random_circuit\n",
        "\n",
        "#circ = random_circuit(10, 10, measure=True)\n",
        "#circ.draw(output='mpl')\n",
        "circ = random_circuit(\n",
        "  num_qubits = 10,\n",
        "  depth = 10,\n",
        "  max_operands = 4,\n",
        "  measure = True,\n",
        "  conditional = True,\n",
        "  reset = True,\n",
        "  seed = 42\n",
        "  )\n",
        "circ.draw(fold=-1, output=\"mpl\", style=\"iqp\", scale=0.2)\n"
      ],
      "metadata": {
        "colab": {
          "base_uri": "https://localhost:8080/",
          "height": 183
        },
        "id": "i-hL0oijU0At",
        "outputId": "3e42c7b6-ef52-420a-e910-bc2c33099251"
      },
      "execution_count": null,
      "outputs": [
        {
          "output_type": "execute_result",
          "data": {
            "text/plain": [
              "<Figure size 1378.55x190.633 with 1 Axes>"
            ],
            "image/png": "[encoded data removed]"
          },
          "metadata": {},
          "execution_count": 6
        }
      ]
    },
    {
      "cell_type": "code",
      "source": [
        "def make_random_circuit(\n",
        "  num_qubits,\n",
        "  depth,\n",
        "  max_operands,\n",
        "  measure,\n",
        "  conditional,\n",
        "  reset,\n",
        "  seed\n",
        "  ):\n",
        "\n",
        "  circ = random_circuit(\n",
        "  num_qubits,\n",
        "  depth,\n",
        "  max_operands,\n",
        "  measure,\n",
        "  conditional,\n",
        "  reset,\n",
        "  seed\n",
        "  )\n",
        "  circ.draw(fold=-1, output=\"mpl\", style=\"iqp\", scale=0.2)\n",
        "  return circ\n",
        "\n",
        "circ = make_random_circuit(\n",
        "  num_qubits = np.random.randint(1,9),\n",
        "  depth = np.random.randint(1,9),\n",
        "  max_operands = np.random.randint(1,4),\n",
        "  measure = True,\n",
        "  conditional = True,\n",
        "  reset = True,\n",
        "  seed = 42\n",
        "  )\n",
        "circ.draw(fold=-1, output=\"mpl\", style=\"iqp\", scale=0.2)\n"
      ],
      "metadata": {
        "colab": {
          "base_uri": "https://localhost:8080/",
          "height": 106
        },
        "id": "s9I9kmnharM2",
        "outputId": "bed11ef2-88e8-449e-b251-c93332aae5ab"
      },
      "execution_count": null,
      "outputs": [
        {
          "output_type": "execute_result",
          "data": {
            "text/plain": [
              "<Figure size 241.444x90.3 with 1 Axes>"
            ],
            "image/png": "[encoded data removed]"
          },
          "metadata": {},
          "execution_count": 8
        }
      ]
    },
    {
      "cell_type": "code",
      "execution_count": null,
      "metadata": {
        "colab": {
          "base_uri": "https://localhost:8080/",
          "height": 193
        },
        "id": "Me3GF3l72TN-",
        "outputId": "6c39d4a4-837f-481c-ee64-3473f97399bb"
      },
      "outputs": [
        {
          "output_type": "error",
          "ename": "NameError",
          "evalue": "name 'NUM_QUBITS' is not defined",
          "traceback": [
            "\u001b[0;31m---------------------------------------------------------------------------\u001b[0m",
            "\u001b[0;31mNameError\u001b[0m                                 Traceback (most recent call last)",
            "\u001b[0;32m<ipython-input-9-ac2856641997>\u001b[0m in \u001b[0;36m<cell line: 1>\u001b[0;34m()\u001b[0m\n\u001b[0;32m----> 1\u001b[0;31m \u001b[0mcircuit\u001b[0m \u001b[0;34m=\u001b[0m \u001b[0mEfficientSU2\u001b[0m\u001b[0;34m(\u001b[0m\u001b[0mNUM_QUBITS\u001b[0m\u001b[0;34m,\u001b[0m \u001b[0mentanglement\u001b[0m\u001b[0;34m=\u001b[0m\u001b[0;34m\"circular\"\u001b[0m\u001b[0;34m,\u001b[0m \u001b[0mreps\u001b[0m\u001b[0;34m=\u001b[0m\u001b[0;36m1\u001b[0m\u001b[0;34m)\u001b[0m\u001b[0;34m.\u001b[0m\u001b[0mdecompose\u001b[0m\u001b[0;34m(\u001b[0m\u001b[0;34m)\u001b[0m\u001b[0;34m\u001b[0m\u001b[0;34m\u001b[0m\u001b[0m\n\u001b[0m\u001b[1;32m      2\u001b[0m \u001b[0;34m\u001b[0m\u001b[0m\n\u001b[1;32m      3\u001b[0m \u001b[0mprint\u001b[0m\u001b[0;34m(\u001b[0m\u001b[0;34mf\"Original circuit -> Depth: {circuit.depth()}, CNOTs: {circuit.num_nonlocal_gates()}\"\u001b[0m\u001b[0;34m)\u001b[0m\u001b[0;34m\u001b[0m\u001b[0;34m\u001b[0m\u001b[0m\n\u001b[1;32m      4\u001b[0m \u001b[0mcircuit\u001b[0m\u001b[0;34m.\u001b[0m\u001b[0mdraw\u001b[0m\u001b[0;34m(\u001b[0m\u001b[0mfold\u001b[0m\u001b[0;34m=\u001b[0m\u001b[0;34m-\u001b[0m\u001b[0;36m1\u001b[0m\u001b[0;34m,\u001b[0m \u001b[0moutput\u001b[0m\u001b[0;34m=\u001b[0m\u001b[0;34m\"mpl\"\u001b[0m\u001b[0;34m,\u001b[0m \u001b[0mstyle\u001b[0m\u001b[0;34m=\u001b[0m\u001b[0;34m\"iqp\"\u001b[0m\u001b[0;34m,\u001b[0m \u001b[0mscale\u001b[0m\u001b[0;34m=\u001b[0m\u001b[0;36m0.2\u001b[0m\u001b[0;34m)\u001b[0m\u001b[0;34m\u001b[0m\u001b[0;34m\u001b[0m\u001b[0m\n",
            "\u001b[0;31mNameError\u001b[0m: name 'NUM_QUBITS' is not defined"
          ]
        }
      ],
      "source": [
        "circuit = EfficientSU2(NUM_QUBITS, entanglement=\"circular\", reps=1).decompose()\n",
        "\n",
        "print(f\"Original circuit -> Depth: {circuit.depth()}, CNOTs: {circuit.num_nonlocal_gates()}\")\n",
        "circuit.draw(fold=-1, output=\"mpl\", style=\"iqp\", scale=0.2)"
      ]
    },
    {
      "cell_type": "code",
      "execution_count": null,
      "metadata": {
        "id": "OdJ6S1PX2VQ3"
      },
      "outputs": [],
      "source": [
        "from qiskit_ibm_runtime import QiskitRuntimeService\n",
        "\n",
        "# Save an IBM Quantum account and set it as your default account.\n",
        "QiskitRuntimeService.save_account(\n",
        "    channel=\"ibm_quantum\",\n",
        "    token=\"d87cf3581eb6ebe7359f68f4c291a5de3492681bc5771ea0883755cbe075940a7ccabd89b28d03ac0bb14484cde73bac587cb0fdcabc4360ffd051fffc665c6c\",\n",
        "    set_as_default=True,\n",
        "    # Use `overwrite=True` if you're updating your token.\n",
        "    # overwrite=True,\n",
        ")\n",
        "\n",
        "# Load saved credentials\n",
        "service = QiskitRuntimeService()\n"
      ]
    },
    {
      "cell_type": "code",
      "execution_count": null,
      "metadata": {
        "id": "TjPmAoiq2W7-"
      },
      "outputs": [],
      "source": [
        "\n",
        "transpiler_ai_false = TranspilerService(\n",
        "    # Add your code here\n",
        "    backend_name=\"ibm_brisbane\",\n",
        "    ai=\"false\",\n",
        "    optimization_level=3,\n",
        ")\n"
      ]
    },
    {
      "cell_type": "code",
      "execution_count": null,
      "metadata": {
        "id": "mvvLlZmu2Zpl",
        "colab": {
          "base_uri": "https://localhost:8080/"
        },
        "outputId": "318e4910-f0c1-43cf-faf3-4a1957a22635"
      },
      "outputs": [
        {
          "output_type": "stream",
          "name": "stderr",
          "text": [
            "INFO:qiskit_transpiler_service.transpiler_service:Requesting transpile to the service\n",
            "INFO:qiskit_transpiler_service.transpiler_service:Qiskit transpiler service returned a result\n"
          ]
        }
      ],
      "source": [
        "circuit_ai_false = transpiler_ai_false.run(circ)"
      ]
    },
    {
      "cell_type": "code",
      "execution_count": null,
      "metadata": {
        "id": "jOvSK_Iz2b0P",
        "colab": {
          "base_uri": "https://localhost:8080/",
          "height": 1000
        },
        "outputId": "10adae4a-d8e5-450a-b518-9d6de186b661"
      },
      "outputs": [
        {
          "output_type": "stream",
          "name": "stdout",
          "text": [
            "Transpiled without AI -> Depth: 10, CNOTs: 0\n"
          ]
        },
        {
          "output_type": "execute_result",
          "data": {
            "text/plain": [
              "<Figure size 328.937x2147.13 with 1 Axes>"
            ],
            "image/png": "[encoded data removed]"
          },
          "metadata": {},
          "execution_count": 13
        }
      ],
      "source": [
        "print(f\"Transpiled without AI -> Depth: {circuit_ai_false.depth()}, CNOTs: {circuit_ai_false.num_nonlocal_gates()}\")\n",
        "circuit_ai_false.draw(fold=-1, output=\"mpl\", scale=0.2)"
      ]
    },
    {
      "cell_type": "code",
      "source": [
        "circuit_ai_false.data"
      ],
      "metadata": {
        "colab": {
          "base_uri": "https://localhost:8080/"
        },
        "id": "Qu0823rCW8lh",
        "outputId": "e031c96b-443b-434f-a1c6-41c278eecbb1"
      },
      "execution_count": null,
      "outputs": [
        {
          "output_type": "execute_result",
          "data": {
            "text/plain": [
              "[CircuitInstruction(operation=Instruction(name='rz', num_qubits=1, num_clbits=0, params=[2.810896227087685]), qubits=(Qubit(QuantumRegister(127, 'q'), 47),), clbits=()), CircuitInstruction(operation=Instruction(name='sx', num_qubits=1, num_clbits=0, params=[]), qubits=(Qubit(QuantumRegister(127, 'q'), 47),), clbits=()), CircuitInstruction(operation=Instruction(name='rz', num_qubits=1, num_clbits=0, params=[6.96552616195705]), qubits=(Qubit(QuantumRegister(127, 'q'), 47),), clbits=()), CircuitInstruction(operation=Instruction(name='reset', num_qubits=1, num_clbits=0, params=[]), qubits=(Qubit(QuantumRegister(127, 'q'), 47),), clbits=()), CircuitInstruction(operation=Instruction(name='rz', num_qubits=1, num_clbits=0, params=[-1.0533598414608356]), qubits=(Qubit(QuantumRegister(127, 'q'), 47),), clbits=()), CircuitInstruction(operation=Instruction(name='sx', num_qubits=1, num_clbits=0, params=[]), qubits=(Qubit(QuantumRegister(127, 'q'), 47),), clbits=()), CircuitInstruction(operation=Instruction(name='rz', num_qubits=1, num_clbits=0, params=[-0.5567233261442368]), qubits=(Qubit(QuantumRegister(127, 'q'), 47),), clbits=()), CircuitInstruction(operation=Instruction(name='sx', num_qubits=1, num_clbits=0, params=[]), qubits=(Qubit(QuantumRegister(127, 'q'), 47),), clbits=()), CircuitInstruction(operation=Instruction(name='rz', num_qubits=1, num_clbits=0, params=[-1.8316884960003286]), qubits=(Qubit(QuantumRegister(127, 'q'), 47),), clbits=()), CircuitInstruction(operation=Instruction(name='sx', num_qubits=1, num_clbits=0, params=[]), qubits=(Qubit(QuantumRegister(127, 'q'), 88),), clbits=()), CircuitInstruction(operation=Instruction(name='rz', num_qubits=1, num_clbits=0, params=[3.1282458396274357]), qubits=(Qubit(QuantumRegister(127, 'q'), 88),), clbits=()), CircuitInstruction(operation=Instruction(name='sx', num_qubits=1, num_clbits=0, params=[]), qubits=(Qubit(QuantumRegister(127, 'q'), 88),), clbits=()), CircuitInstruction(operation=Instruction(name='rz', num_qubits=1, num_clbits=0, params=[1.1501304935075938]), qubits=(Qubit(QuantumRegister(127, 'q'), 88),), clbits=()), CircuitInstruction(operation=Instruction(name='rz', num_qubits=1, num_clbits=0, params=[0.9902997695026308]), qubits=(Qubit(QuantumRegister(127, 'q'), 103),), clbits=()), CircuitInstruction(operation=Instruction(name='rz', num_qubits=1, num_clbits=0, params=[2.4176631812450085]), qubits=(Qubit(QuantumRegister(127, 'q'), 112),), clbits=()), CircuitInstruction(operation=Instruction(name='sx', num_qubits=1, num_clbits=0, params=[]), qubits=(Qubit(QuantumRegister(127, 'q'), 112),), clbits=()), CircuitInstruction(operation=Instruction(name='rz', num_qubits=1, num_clbits=0, params=[-1.43291055358893]), qubits=(Qubit(QuantumRegister(127, 'q'), 112),), clbits=()), CircuitInstruction(operation=Instruction(name='sx', num_qubits=1, num_clbits=0, params=[]), qubits=(Qubit(QuantumRegister(127, 'q'), 112),), clbits=()), CircuitInstruction(operation=Instruction(name='rz', num_qubits=1, num_clbits=0, params=[-0.5999125510092576]), qubits=(Qubit(QuantumRegister(127, 'q'), 112),), clbits=()), CircuitInstruction(operation=Instruction(name='measure', num_qubits=1, num_clbits=1, params=[]), qubits=(Qubit(QuantumRegister(127, 'q'), 47),), clbits=(Clbit(ClassicalRegister(4, 'c'), 0),)), CircuitInstruction(operation=Instruction(name='measure', num_qubits=1, num_clbits=1, params=[]), qubits=(Qubit(QuantumRegister(127, 'q'), 103),), clbits=(Clbit(ClassicalRegister(4, 'c'), 1),)), CircuitInstruction(operation=Instruction(name='measure', num_qubits=1, num_clbits=1, params=[]), qubits=(Qubit(QuantumRegister(127, 'q'), 88),), clbits=(Clbit(ClassicalRegister(4, 'c'), 2),)), CircuitInstruction(operation=Instruction(name='measure', num_qubits=1, num_clbits=1, params=[]), qubits=(Qubit(QuantumRegister(127, 'q'), 112),), clbits=(Clbit(ClassicalRegister(4, 'c'), 3),))]"
            ]
          },
          "metadata": {},
          "execution_count": 14
        }
      ]
    },
    {
      "cell_type": "code",
      "execution_count": null,
      "metadata": {
        "id": "dEsbIOo32dhl"
      },
      "outputs": [],
      "source": [
        "transpiler_ai_true = TranspilerService(\n",
        "    # Add your code here\n",
        "    backend_name=\"ibm_brisbane\",\n",
        "    ai=\"true\",\n",
        "    optimization_level=3,\n",
        "    )"
      ]
    },
    {
      "cell_type": "code",
      "execution_count": null,
      "metadata": {
        "id": "Yt6-lTm22gTO",
        "colab": {
          "base_uri": "https://localhost:8080/",
          "height": 477
        },
        "outputId": "08117a3f-db51-4ead-f8a4-838afbc893ef"
      },
      "outputs": [
        {
          "output_type": "stream",
          "name": "stderr",
          "text": [
            "INFO:qiskit_transpiler_service.transpiler_service:Requesting transpile to the service\n",
            "ERROR:qiskit_transpiler_service.wrappers.base:The request FAILED\n",
            "ERROR:qiskit_transpiler_service.wrappers.base:Failed to get a result for transpile: The background task 1c59c98b-5137-4906-84c2-86718764d12e FAILED\n",
            "ERROR:qiskit_transpiler_service.wrappers.base:Service error.\n"
          ]
        },
        {
          "output_type": "error",
          "ename": "TranspilerError",
          "evalue": "'Service error.'",
          "traceback": [
            "\u001b[0;31m---------------------------------------------------------------------------\u001b[0m",
            "\u001b[0;31mBackendTaskError\u001b[0m                          Traceback (most recent call last)",
            "\u001b[0;32m/usr/local/lib/python3.10/dist-packages/qiskit_transpiler_service/wrappers/base.py\u001b[0m in \u001b[0;36mrequest_and_wait\u001b[0;34m(self, endpoint, body, params)\u001b[0m\n\u001b[1;32m    128\u001b[0m         \u001b[0;32mtry\u001b[0m\u001b[0;34m:\u001b[0m\u001b[0;34m\u001b[0m\u001b[0;34m\u001b[0m\u001b[0m\n\u001b[0;32m--> 129\u001b[0;31m             \u001b[0;32mreturn\u001b[0m \u001b[0mself\u001b[0m\u001b[0;34m.\u001b[0m\u001b[0m_request_and_wait\u001b[0m\u001b[0;34m(\u001b[0m\u001b[0mendpoint\u001b[0m\u001b[0;34m,\u001b[0m \u001b[0mbody\u001b[0m\u001b[0;34m,\u001b[0m \u001b[0mparams\u001b[0m\u001b[0;34m)\u001b[0m\u001b[0;34m\u001b[0m\u001b[0;34m\u001b[0m\u001b[0m\n\u001b[0m\u001b[1;32m    130\u001b[0m         \u001b[0;32mexcept\u001b[0m \u001b[0mrequests\u001b[0m\u001b[0;34m.\u001b[0m\u001b[0mexceptions\u001b[0m\u001b[0;34m.\u001b[0m\u001b[0mHTTPError\u001b[0m \u001b[0;32mas\u001b[0m \u001b[0mexc\u001b[0m\u001b[0;34m:\u001b[0m\u001b[0;34m\u001b[0m\u001b[0;34m\u001b[0m\u001b[0m\n",
            "\u001b[0;32m/usr/local/lib/python3.10/dist-packages/qiskit_transpiler_service/wrappers/base.py\u001b[0m in \u001b[0;36m_request_and_wait\u001b[0;34m(self, endpoint, body, params)\u001b[0m\n\u001b[1;32m    164\u001b[0m             \u001b[0mlogger\u001b[0m\u001b[0;34m.\u001b[0m\u001b[0merror\u001b[0m\u001b[0;34m(\u001b[0m\u001b[0;34mf\"Failed to get a result for {endpoint}: {result.msg}\"\u001b[0m\u001b[0;34m)\u001b[0m\u001b[0;34m\u001b[0m\u001b[0;34m\u001b[0m\u001b[0m\n\u001b[0;32m--> 165\u001b[0;31m             \u001b[0;32mraise\u001b[0m \u001b[0mresult\u001b[0m\u001b[0;34m\u001b[0m\u001b[0;34m\u001b[0m\u001b[0m\n\u001b[0m\u001b[1;32m    166\u001b[0m         \u001b[0;32melse\u001b[0m\u001b[0;34m:\u001b[0m\u001b[0;34m\u001b[0m\u001b[0;34m\u001b[0m\u001b[0m\n",
            "\u001b[0;31mBackendTaskError\u001b[0m: ",
            "\nDuring handling of the above exception, another exception occurred:\n",
            "\u001b[0;31mTranspilerError\u001b[0m                           Traceback (most recent call last)",
            "\u001b[0;32m<ipython-input-16-4a50a4882591>\u001b[0m in \u001b[0;36m<cell line: 1>\u001b[0;34m()\u001b[0m\n\u001b[0;32m----> 1\u001b[0;31m \u001b[0mcircuit_ai_true\u001b[0m \u001b[0;34m=\u001b[0m \u001b[0mtranspiler_ai_true\u001b[0m\u001b[0;34m.\u001b[0m\u001b[0mrun\u001b[0m\u001b[0;34m(\u001b[0m\u001b[0mcirc\u001b[0m\u001b[0;34m)\u001b[0m\u001b[0;34m\u001b[0m\u001b[0;34m\u001b[0m\u001b[0m\n\u001b[0m",
            "\u001b[0;32m/usr/local/lib/python3.10/dist-packages/qiskit_transpiler_service/transpiler_service.py\u001b[0m in \u001b[0;36mrun\u001b[0;34m(self, circuits)\u001b[0m\n\u001b[1;32m     98\u001b[0m         \"\"\"\n\u001b[1;32m     99\u001b[0m         \u001b[0mlogger\u001b[0m\u001b[0;34m.\u001b[0m\u001b[0minfo\u001b[0m\u001b[0;34m(\u001b[0m\u001b[0;34mf\"Requesting transpile to the service\"\u001b[0m\u001b[0;34m)\u001b[0m\u001b[0;34m\u001b[0m\u001b[0;34m\u001b[0m\u001b[0m\n\u001b[0;32m--> 100\u001b[0;31m         transpile_result = self.transpiler_service.transpile(\n\u001b[0m\u001b[1;32m    101\u001b[0m             \u001b[0mcircuits\u001b[0m\u001b[0;34m=\u001b[0m\u001b[0mcircuits\u001b[0m\u001b[0;34m,\u001b[0m\u001b[0;34m\u001b[0m\u001b[0;34m\u001b[0m\u001b[0m\n\u001b[1;32m    102\u001b[0m             \u001b[0mbackend\u001b[0m\u001b[0;34m=\u001b[0m\u001b[0mself\u001b[0m\u001b[0;34m.\u001b[0m\u001b[0mbackend_name\u001b[0m\u001b[0;34m,\u001b[0m\u001b[0;34m\u001b[0m\u001b[0;34m\u001b[0m\u001b[0m\n",
            "\u001b[0;32m/usr/local/lib/python3.10/dist-packages/qiskit_transpiler_service/wrappers/transpile.py\u001b[0m in \u001b[0;36mtranspile\u001b[0;34m(self, circuits, optimization_level, backend, coupling_map, ai, qiskit_transpile_options, ai_layout_mode)\u001b[0m\n\u001b[1;32m     70\u001b[0m             \u001b[0mparams\u001b[0m\u001b[0;34m[\u001b[0m\u001b[0;34m\"ai_layout_mode\"\u001b[0m\u001b[0;34m]\u001b[0m \u001b[0;34m=\u001b[0m \u001b[0mai_layout_mode\u001b[0m\u001b[0;34m\u001b[0m\u001b[0;34m\u001b[0m\u001b[0m\n\u001b[1;32m     71\u001b[0m \u001b[0;34m\u001b[0m\u001b[0m\n\u001b[0;32m---> 72\u001b[0;31m         transpile_resp = self.request_and_wait(\n\u001b[0m\u001b[1;32m     73\u001b[0m             \u001b[0mendpoint\u001b[0m\u001b[0;34m=\u001b[0m\u001b[0;34m\"transpile\"\u001b[0m\u001b[0;34m,\u001b[0m \u001b[0mbody\u001b[0m\u001b[0;34m=\u001b[0m\u001b[0mjson_args\u001b[0m\u001b[0;34m,\u001b[0m \u001b[0mparams\u001b[0m\u001b[0;34m=\u001b[0m\u001b[0mparams\u001b[0m\u001b[0;34m\u001b[0m\u001b[0;34m\u001b[0m\u001b[0m\n\u001b[1;32m     74\u001b[0m         )\n",
            "\u001b[0;32m/usr/local/lib/python3.10/dist-packages/qiskit_transpiler_service/wrappers/base.py\u001b[0m in \u001b[0;36mrequest_and_wait\u001b[0;34m(self, endpoint, body, params)\u001b[0m\n\u001b[1;32m    132\u001b[0m         \u001b[0;32mexcept\u001b[0m \u001b[0mBackendTaskError\u001b[0m\u001b[0;34m:\u001b[0m\u001b[0;34m\u001b[0m\u001b[0;34m\u001b[0m\u001b[0m\n\u001b[1;32m    133\u001b[0m             \u001b[0;31m# TODO: Do we want to give the user the internal error: \"The background task df86e449-8bb5-43fb-92a9-c23818ee8ce7 FAILED\"\u001b[0m\u001b[0;34m\u001b[0m\u001b[0;34m\u001b[0m\u001b[0m\n\u001b[0;32m--> 134\u001b[0;31m             \u001b[0m_raise_transpiler_error_and_log\u001b[0m\u001b[0;34m(\u001b[0m\u001b[0;34m\"Service error.\"\u001b[0m\u001b[0;34m)\u001b[0m\u001b[0;34m\u001b[0m\u001b[0;34m\u001b[0m\u001b[0m\n\u001b[0m\u001b[1;32m    135\u001b[0m         \u001b[0;32mexcept\u001b[0m \u001b[0mException\u001b[0m \u001b[0;32mas\u001b[0m \u001b[0mexc\u001b[0m\u001b[0;34m:\u001b[0m\u001b[0;34m\u001b[0m\u001b[0;34m\u001b[0m\u001b[0m\n\u001b[1;32m    136\u001b[0m             \u001b[0m_raise_transpiler_error_and_log\u001b[0m\u001b[0;34m(\u001b[0m\u001b[0;34mf\"Error: {exc}\"\u001b[0m\u001b[0;34m)\u001b[0m\u001b[0;34m\u001b[0m\u001b[0;34m\u001b[0m\u001b[0m\n",
            "\u001b[0;32m/usr/local/lib/python3.10/dist-packages/qiskit_transpiler_service/wrappers/base.py\u001b[0m in \u001b[0;36m_raise_transpiler_error_and_log\u001b[0;34m(msg)\u001b[0m\n\u001b[1;32m    170\u001b[0m \u001b[0;32mdef\u001b[0m \u001b[0m_raise_transpiler_error_and_log\u001b[0m\u001b[0;34m(\u001b[0m\u001b[0mmsg\u001b[0m\u001b[0;34m:\u001b[0m \u001b[0mstr\u001b[0m\u001b[0;34m)\u001b[0m\u001b[0;34m:\u001b[0m\u001b[0;34m\u001b[0m\u001b[0;34m\u001b[0m\u001b[0m\n\u001b[1;32m    171\u001b[0m     \u001b[0mlogger\u001b[0m\u001b[0;34m.\u001b[0m\u001b[0merror\u001b[0m\u001b[0;34m(\u001b[0m\u001b[0mmsg\u001b[0m\u001b[0;34m)\u001b[0m\u001b[0;34m\u001b[0m\u001b[0;34m\u001b[0m\u001b[0m\n\u001b[0;32m--> 172\u001b[0;31m     \u001b[0;32mraise\u001b[0m \u001b[0mTranspilerError\u001b[0m\u001b[0;34m(\u001b[0m\u001b[0mmsg\u001b[0m\u001b[0;34m)\u001b[0m\u001b[0;34m\u001b[0m\u001b[0;34m\u001b[0m\u001b[0m\n\u001b[0m\u001b[1;32m    173\u001b[0m \u001b[0;34m\u001b[0m\u001b[0m\n\u001b[1;32m    174\u001b[0m \u001b[0;34m\u001b[0m\u001b[0m\n",
            "\u001b[0;31mTranspilerError\u001b[0m: 'Service error.'"
          ]
        }
      ],
      "source": [
        "circuit_ai_true = transpiler_ai_true.run(circ)"
      ]
    },
    {
      "cell_type": "code",
      "execution_count": null,
      "metadata": {
        "id": "IH0f8OXl2hmP"
      },
      "outputs": [],
      "source": [
        "print(f\"Transpiled with AI -> Depth: {circuit_ai_true.depth()}, CNOTs: {circuit_ai_true.num_nonlocal_gates()}\")\n",
        "circuit_ai_true.draw(fold=-1, output=\"mpl\", scale=0.2)"
      ]
    },
    {
      "cell_type": "code",
      "execution_count": null,
      "metadata": {
        "id": "ka2ObVPz2jNA"
      },
      "outputs": [],
      "source": [
        "# Transpiling locally using Qiskit SDK\n",
        "service = QiskitRuntimeService()\n",
        "backend = service.backend(\"ibm_sherbrooke\")\n",
        "pm = generate_preset_pass_manager(backend=backend, optimization_level=3)"
      ]
    },
    {
      "cell_type": "code",
      "execution_count": null,
      "metadata": {
        "id": "yWT5-JiM2kWg",
        "colab": {
          "base_uri": "https://localhost:8080/"
        },
        "outputId": "c7b730d0-ead3-4bc9-8c59-ed58009b1ae8"
      },
      "outputs": [
        {
          "output_type": "stream",
          "name": "stderr",
          "text": [
            "INFO:qiskit_transpiler_service.transpiler_service:Requesting transpile to the service\n",
            "INFO:qiskit_transpiler_service.transpiler_service:Qiskit transpiler service returned a result\n",
            "INFO:qiskit_transpiler_service.transpiler_service:Requesting transpile to the service\n",
            "INFO:qiskit_transpiler_service.transpiler_service:Qiskit transpiler service returned a result\n",
            "INFO:qiskit_transpiler_service.transpiler_service:Requesting transpile to the service\n",
            "INFO:qiskit_transpiler_service.transpiler_service:Qiskit transpiler service returned a result\n",
            "INFO:qiskit_transpiler_service.transpiler_service:Requesting transpile to the service\n",
            "INFO:qiskit_transpiler_service.transpiler_service:Qiskit transpiler service returned a result\n"
          ]
        }
      ],
      "source": [
        "# Run and compile results\n",
        "num_qubits = [10, 20]\n",
        "num_cnots_local = []\n",
        "num_cnots_with_ai = []\n",
        "num_cnots_without_ai = []\n",
        "\n",
        "for nq in num_qubits:\n",
        "    circuit = EfficientSU2(nq, entanglement=\"circular\", reps=1).decompose()\n",
        "\n",
        "    # Using the Transpiler locally on Qiskit\n",
        "    circuit_local = pm.run(circuit)\n",
        "    # Using the transpiler service without AI\n",
        "    circuit_without_ai = transpiler_ai_false.run(circuit)\n",
        "    # Using the transpiler service with AI\n",
        "    circuit_with_ai = transpiler_ai_true.run(circuit)\n",
        "\n",
        "    num_cnots_local.append(circuit_local.num_nonlocal_gates())\n",
        "    num_cnots_without_ai.append(circuit_without_ai.num_nonlocal_gates())\n",
        "    num_cnots_with_ai.append(circuit_with_ai.num_nonlocal_gates())"
      ]
    },
    {
      "cell_type": "code",
      "execution_count": null,
      "metadata": {
        "id": "6vl4LBNx2nOY",
        "colab": {
          "base_uri": "https://localhost:8080/",
          "height": 466
        },
        "outputId": "26636bae-3f66-4c2f-f5a1-cc06e96b57b0"
      },
      "outputs": [
        {
          "output_type": "execute_result",
          "data": {
            "text/plain": [
              "<matplotlib.legend.Legend at 0x7a0324da8310>"
            ]
          },
          "metadata": {},
          "execution_count": 19
        },
        {
          "output_type": "display_data",
          "data": {
            "text/plain": [
              "<Figure size 640x480 with 1 Axes>"
            ],
            "image/png": "[encoded data removed]"
          },
          "metadata": {}
        }
      ],
      "source": [
        "plt.plot(num_qubits, num_cnots_with_ai, '.-')\n",
        "plt.plot(num_qubits, num_cnots_without_ai, '.-')\n",
        "plt.plot(num_qubits, num_cnots_local, '--')\n",
        "plt.xlabel(\"Number of qubits\")\n",
        "plt.ylabel(\"CNOT count\")\n",
        "plt.legend([\"Qiskit Transpiler Service with AI\", \"Qiskit Transpiler Service without AI\", \"Qiskit SDK\"])"
      ]
    },
    {
      "cell_type": "markdown",
      "metadata": {
        "id": "gMwLf2wVcC_e"
      },
      "source": [
        "5. develop benchmark data"
      ]
    },
    {
      "cell_type": "markdown",
      "source": [
        "verify accuracy at low (10) qubit count on local simulator, then scale up to medium (50) qubits on HPC (AWS or OSU) (parallelize shots on different nodes), then scale up to high (100 qubits) on IBM QPU"
      ],
      "metadata": {
        "id": "6qD1IxhUIzY9"
      }
    },
    {
      "cell_type": "markdown",
      "source": [
        "two circuits can be verified as essentially the same if they return the same answers with some (10%) tolerance."
      ],
      "metadata": {
        "id": "b4-XnsweJiaw"
      }
    },
    {
      "cell_type": "markdown",
      "metadata": {
        "id": "y9ZaqkIncK2M"
      },
      "source": [
        "6. devlop AI model: build, train, evaluate\n"
      ]
    },
    {
      "cell_type": "markdown",
      "metadata": {
        "id": "8o9KbBricNre"
      },
      "source": [
        "7. documentation and presentation"
      ]
    },
    {
      "cell_type": "markdown",
      "metadata": {
        "id": "0xdOWQLV2tVv"
      },
      "source": [
        "Resources"
      ]
    },
    {
      "cell_type": "markdown",
      "metadata": {
        "id": "nvZv28kF2vlf"
      },
      "source": [
        "- https://arxiv.org/pdf/2405.13196\n",
        "- https://www.ibm.com/quantum/blog/ai-transpiler-passes\n",
        "- https://docs.quantum.ibm.com/transpile/qiskit-transpiler-service\n",
        "- https://docs.quantum.ibm.com/transpile/ai-transpiler-passes"
      ]
    },
    {
      "cell_type": "markdown",
      "metadata": {
        "id": "6P7cdq54ahIE"
      },
      "source": [
        "- https://quantumalgorithmzoo.org/\n",
        "\n",
        "- https://github.com/FujiiLabCollaboration/MNISQ-quantum-circuit-dataset\n",
        "\n",
        "- https://arxiv.org/pdf/2306.16627\n"
      ]
    },
    {
      "cell_type": "markdown",
      "source": [
        "- https://www.nature.com/articles/s41598-020-72469-7\n",
        "- https://patentimages.storage.googleapis.com/05/a7/2f/c959169907f86f/US20110138344A1.pdf\n",
        "- https://pennylane.ai/qml/glossary/what-is-a-toffoli-gate/#:~:text=The%20Toffoli%20gate%20is%20represented%20in%20matrix%20form%20as%20below.&text=If%20the%20control%20qubit%2C%20c,functioning%20as%20a%20NAND%20gate."
      ],
      "metadata": {
        "id": "oz4Q6sdyOR9d"
      }
    },
    {
      "cell_type": "markdown",
      "source": [
        "- https://arxiv.org/pdf/2402.14396\n",
        "- https://www.classiq.io/insights/quantum-software-optimization\n",
        "- https://arxiv.org/pdf/2307.10120\n",
        "- https://www.researchgate.net/publication/344392207_Quantum_circuit_optimization_using_quantum_Karnaugh_map"
      ],
      "metadata": {
        "id": "vSW4fPAQSlF3"
      }
    },
    {
      "cell_type": "markdown",
      "source": [
        "- https://en.wikipedia.org/wiki/SAT_solver#:~:text=On%20input%20a%20formula%20over,values%20of%20x%20and%20y.\n",
        "- https://docs.quantum.ibm.com/api/qiskit/qiskit.transpiler.passes.SabreSwap\n",
        "- https://arxiv.org/pdf/2308.03344\n",
        "- https://arxiv.org/pdf/1704.08670\n",
        "- https://www.nature.com/articles/s41586-022-05434-1#:~:text=Surface%20codes30%2C31%2C32,XL%20and%20ZL.\n",
        "- https://pennylane.ai/qml/demos/tutorial_zx_calculus/\n",
        "- https://mathai2023.github.io/papers/34.pdf\n",
        "- https://www.geeksforgeeks.org/minimization-of-boolean-functions/\n",
        "- http://marc.bouissou.free.fr/BDMP_PSAM6.pdf\n",
        "- https://allbooksfordownloading.wordpress.com/wp-content/uploads/2017/01/digital-design-and-computer-architecture-by-david-and-sarah-harris.pdf\n",
        "- Quantum circuit optimization using\n",
        "quantum Karnaugh map\n",
        "- A kinetic Monte Carlo approach for Boolean logic functionality in gold nanoparticle networks\n",
        "\n",
        "- https://pennylane.ai/qml/demos/tutorial_zx_calculus/\n",
        "- https://docs.quantum.ibm.com/api/qiskit/0.28/qiskit.transpiler.passes.BIPMapping\n",
        "- https://docs.quantum.ibm.com/api/qiskit/qiskit.circuit.QuantumCircuit#qiskit.circuit.QuantumCircuit.data\n",
        "- https://arxiv.org/pdf/2305.02939\n",
        "- https://arxiv.org/pdf/2405.13196"
      ],
      "metadata": {
        "id": "cTBDvgV7rQR8"
      }
    }
  ],
  "metadata": {
    "colab": {
      "provenance": []
    },
    "kernelspec": {
      "display_name": "Python 3",
      "name": "python3"
    },
    "language_info": {
      "name": "python"
    }
  },
  "nbformat": 4,
  "nbformat_minor": 0
}